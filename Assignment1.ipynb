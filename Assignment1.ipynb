{
 "cells": [
  {
   "cell_type": "code",
   "execution_count": 1,
   "id": "7258a5b8-2c4c-48a7-bec4-1d1868c568fa",
   "metadata": {},
   "outputs": [],
   "source": [
    "x = 7"
   ]
  },
  {
   "cell_type": "code",
   "execution_count": 2,
   "id": "2f363447-ec99-47be-99af-af7956549b58",
   "metadata": {},
   "outputs": [],
   "source": [
    "y = 5"
   ]
  },
  {
   "cell_type": "code",
   "execution_count": 3,
   "id": "916611ba-e11f-4db6-974c-0314a2ea77ec",
   "metadata": {},
   "outputs": [],
   "source": [
    "x = x + y"
   ]
  },
  {
   "cell_type": "code",
   "execution_count": 4,
   "id": "d16fd3c2-90cd-4394-8b37-beddc8849bcd",
   "metadata": {},
   "outputs": [],
   "source": [
    "y = x - y"
   ]
  },
  {
   "cell_type": "code",
   "execution_count": 5,
   "id": "9d794677-fbc8-4930-9ce1-46374e0fc669",
   "metadata": {},
   "outputs": [],
   "source": [
    "x = x - y"
   ]
  },
  {
   "cell_type": "code",
   "execution_count": 6,
   "id": "93da8f9b-fd59-4c0e-91d8-87b6e7996d3b",
   "metadata": {},
   "outputs": [
    {
     "data": {
      "text/plain": [
       "5"
      ]
     },
     "execution_count": 6,
     "metadata": {},
     "output_type": "execute_result"
    }
   ],
   "source": [
    "x"
   ]
  },
  {
   "cell_type": "code",
   "execution_count": 7,
   "id": "70919e7e-0e53-4fe7-981e-e07343df4d0e",
   "metadata": {},
   "outputs": [
    {
     "data": {
      "text/plain": [
       "7"
      ]
     },
     "execution_count": 7,
     "metadata": {},
     "output_type": "execute_result"
    }
   ],
   "source": [
    "y"
   ]
  },
  {
   "cell_type": "code",
   "execution_count": 8,
   "id": "14a42257-50c4-4b03-88d2-d168c0ce8dcd",
   "metadata": {},
   "outputs": [
    {
     "name": "stdin",
     "output_type": "stream",
     "text": [
      "length : 6\n"
     ]
    }
   ],
   "source": [
    "a = input('length :')"
   ]
  },
  {
   "cell_type": "code",
   "execution_count": 9,
   "id": "1cc15c8c-4029-488f-b01d-351c307ed2a5",
   "metadata": {},
   "outputs": [
    {
     "name": "stdout",
     "output_type": "stream",
     "text": [
      "6\n"
     ]
    }
   ],
   "source": [
    "print(a)"
   ]
  },
  {
   "cell_type": "code",
   "execution_count": 10,
   "id": "6bcff73d-b697-4812-9046-e3ee3939fb22",
   "metadata": {},
   "outputs": [
    {
     "name": "stdin",
     "output_type": "stream",
     "text": [
      "width  8\n"
     ]
    }
   ],
   "source": [
    "b = input('width ')"
   ]
  },
  {
   "cell_type": "code",
   "execution_count": 11,
   "id": "c431893f-480c-4b5d-8642-1c9e5b2a5982",
   "metadata": {},
   "outputs": [
    {
     "name": "stdout",
     "output_type": "stream",
     "text": [
      "8\n"
     ]
    }
   ],
   "source": [
    "print(b)"
   ]
  },
  {
   "cell_type": "code",
   "execution_count": 12,
   "id": "2ecc50fb-5431-4640-8d66-53a90637e518",
   "metadata": {},
   "outputs": [],
   "source": [
    "area = int(a) * int (b)"
   ]
  },
  {
   "cell_type": "code",
   "execution_count": 13,
   "id": "d52b3d85-4a28-44e3-93d9-819d149a6497",
   "metadata": {},
   "outputs": [
    {
     "data": {
      "text/plain": [
       "48"
      ]
     },
     "execution_count": 13,
     "metadata": {},
     "output_type": "execute_result"
    }
   ],
   "source": [
    "area"
   ]
  },
  {
   "cell_type": "code",
   "execution_count": 14,
   "id": "63aa7b74-bf5b-4592-9e08-a9a14b950ec2",
   "metadata": {},
   "outputs": [
    {
     "name": "stdin",
     "output_type": "stream",
     "text": [
      "celsius : 25\n"
     ]
    }
   ],
   "source": [
    "c = input('celsius :')"
   ]
  },
  {
   "cell_type": "code",
   "execution_count": 15,
   "id": "6099df12-567d-4f7f-adbe-369ac7edc942",
   "metadata": {},
   "outputs": [
    {
     "name": "stdout",
     "output_type": "stream",
     "text": [
      "25\n"
     ]
    }
   ],
   "source": [
    "print(c)"
   ]
  },
  {
   "cell_type": "code",
   "execution_count": 17,
   "id": "6f5976e4-763b-4b5d-b698-cffd9cbda0fa",
   "metadata": {},
   "outputs": [],
   "source": [
    "F = (int(c)/5)*9 + 32"
   ]
  },
  {
   "cell_type": "code",
   "execution_count": 18,
   "id": "f3d6d788-4682-49a8-912d-f4a0b260b14f",
   "metadata": {},
   "outputs": [
    {
     "data": {
      "text/plain": [
       "77.0"
      ]
     },
     "execution_count": 18,
     "metadata": {},
     "output_type": "execute_result"
    }
   ],
   "source": [
    "F"
   ]
  },
  {
   "cell_type": "code",
   "execution_count": 19,
   "id": "ecd061c5-8763-40c6-8690-1362655be450",
   "metadata": {},
   "outputs": [
    {
     "name": "stdin",
     "output_type": "stream",
     "text": [
      "Enter a string : Pwskills\n"
     ]
    }
   ],
   "source": [
    "str = input('Enter a string :')"
   ]
  },
  {
   "cell_type": "code",
   "execution_count": 20,
   "id": "d5494586-32bf-45f2-beb2-3843698b9744",
   "metadata": {},
   "outputs": [],
   "source": [
    "n = len(str)"
   ]
  },
  {
   "cell_type": "code",
   "execution_count": 21,
   "id": "9545e5a8-d280-4afe-b747-81b0139b32b6",
   "metadata": {},
   "outputs": [
    {
     "name": "stdout",
     "output_type": "stream",
     "text": [
      "8\n"
     ]
    }
   ],
   "source": [
    "print(n)"
   ]
  },
  {
   "cell_type": "code",
   "execution_count": 22,
   "id": "3f0cc4f5-4293-4390-973d-9e9d6872d899",
   "metadata": {},
   "outputs": [
    {
     "name": "stdin",
     "output_type": "stream",
     "text": [
      "Enter a string : India\n"
     ]
    }
   ],
   "source": [
    "s1 = input('Enter a string :') "
   ]
  },
  {
   "cell_type": "code",
   "execution_count": 24,
   "id": "d8d6d1df-990c-4399-8082-d0b2d93ffd06",
   "metadata": {},
   "outputs": [
    {
     "name": "stdout",
     "output_type": "stream",
     "text": [
      "I = 1 times\n",
      "n = 1 times\n",
      "d = 1 times\n",
      "i = 1 times\n",
      "a = 1 times\n"
     ]
    }
   ],
   "source": [
    "for i in s1:\n",
    "    print(i,'=',s1.count(i),'times')"
   ]
  },
  {
   "cell_type": "code",
   "execution_count": 25,
   "id": "ffa4b510-6add-4538-a551-d108deb6f916",
   "metadata": {},
   "outputs": [
    {
     "name": "stdin",
     "output_type": "stream",
     "text": [
      "Enter a string : 9876543\n"
     ]
    }
   ],
   "source": [
    "s1 = input('Enter a string :') "
   ]
  },
  {
   "cell_type": "code",
   "execution_count": 26,
   "id": "737eb1b1-c43d-46f3-8d0b-980a31b42402",
   "metadata": {},
   "outputs": [],
   "source": [
    "s1 = s1[::-1]"
   ]
  },
  {
   "cell_type": "code",
   "execution_count": 27,
   "id": "ee7fbb1b-9426-4b3e-9062-8be51beab2a5",
   "metadata": {},
   "outputs": [
    {
     "name": "stdout",
     "output_type": "stream",
     "text": [
      "3456789\n"
     ]
    }
   ],
   "source": [
    "print(s1)"
   ]
  },
  {
   "cell_type": "code",
   "execution_count": 28,
   "id": "50f605b7-bf70-4bb2-b8a0-dbeaedd01ae0",
   "metadata": {},
   "outputs": [],
   "source": [
    "s1 = \"Remove all the spaces\""
   ]
  },
  {
   "cell_type": "code",
   "execution_count": 29,
   "id": "465f0faf-0e65-4b74-a2aa-1032667d80e4",
   "metadata": {},
   "outputs": [],
   "source": [
    "s1 = s1.replace(\" \",\"\")"
   ]
  },
  {
   "cell_type": "code",
   "execution_count": 31,
   "id": "03c0c61e-0ec9-42c9-a18c-bbbd5d765f46",
   "metadata": {},
   "outputs": [
    {
     "name": "stdout",
     "output_type": "stream",
     "text": [
      "String after removing all the space :Removeallthespaces\n"
     ]
    }
   ],
   "source": [
    "print(\"String after removing all the space :\"+s1)"
   ]
  },
  {
   "cell_type": "code",
   "execution_count": null,
   "id": "c10b3e24-1bbf-4cf4-92f4-9fe091049d3a",
   "metadata": {},
   "outputs": [],
   "source": []
  }
 ],
 "metadata": {
  "kernelspec": {
   "display_name": "Python 3 (ipykernel)",
   "language": "python",
   "name": "python3"
  },
  "language_info": {
   "codemirror_mode": {
    "name": "ipython",
    "version": 3
   },
   "file_extension": ".py",
   "mimetype": "text/x-python",
   "name": "python",
   "nbconvert_exporter": "python",
   "pygments_lexer": "ipython3",
   "version": "3.10.8"
  }
 },
 "nbformat": 4,
 "nbformat_minor": 5
}
